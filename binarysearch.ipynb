{
 "cells": [
  {
   "cell_type": "code",
   "execution_count": 35,
   "metadata": {},
   "outputs": [
    {
     "name": "stdout",
     "output_type": "stream",
     "text": [
      "4\n"
     ]
    }
   ],
   "source": [
    "def search(arr,target):\n",
    "    \n",
    "    start = 0\n",
    "    end = len(arr) - 1\n",
    "    while start <= end:\n",
    "        middle = (start + end) // 2\n",
    "        \n",
    "        if target == arr[middle]:\n",
    "            return middle \n",
    "        elif arr[middle] > target:\n",
    "            end = middle -1\n",
    "        else:\n",
    "            start = middle + 1\n",
    "           \n",
    "        \n",
    "    return -1\n",
    "\n",
    "print(search([1,2,3,4,5],5))"
   ]
  },
  {
   "cell_type": "code",
   "execution_count": 10,
   "metadata": {},
   "outputs": [
    {
     "name": "stdout",
     "output_type": "stream",
     "text": [
      "test\n",
      "test\n",
      "test\n",
      "1\n"
     ]
    }
   ],
   "source": [
    "def recursive(arr,target):\n",
    "    start = len(arr) - (len(arr)+1)\n",
    "    end = len(arr) -1\n",
    "    return helperFunc(arr,start,end,target)\n",
    "\n",
    "    \n",
    "\n",
    "\n",
    "def helperFunc(arr,start,end,target):\n",
    "    middle = (start + end) // 2\n",
    "    if start > end:\n",
    "        raise ValueError(\"That value does not exit in the list\")\n",
    "    if target == arr[middle]: \n",
    "        print(\"test\")\n",
    "        return middle \n",
    "    elif target < arr[middle]:\n",
    "        end = middle - 1\n",
    "        print(\"test\")\n",
    "        return helperFunc(arr,start,end,target)\n",
    "    else:\n",
    "        start = middle + 1\n",
    "        print(\"test\")\n",
    "        return helperFunc(arr,start,end,target)\n",
    "\n",
    "\n",
    "\n",
    "\n",
    "\n",
    "print(recursive([1,2,3,4,5,6,7,8,9],2))"
   ]
  },
  {
   "cell_type": "code",
   "execution_count": 87,
   "metadata": {},
   "outputs": [
    {
     "data": {
      "text/plain": [
       "3"
      ]
     },
     "execution_count": 87,
     "metadata": {},
     "output_type": "execute_result"
    }
   ],
   "source": [
    "7//2\n"
   ]
  },
  {
   "cell_type": "code",
   "execution_count": 57,
   "metadata": {},
   "outputs": [
    {
     "data": {
      "text/plain": [
       "[1]"
      ]
     },
     "execution_count": 57,
     "metadata": {},
     "output_type": "execute_result"
    }
   ],
   "source": [
    "lst = [1,2,3,4,5]\n",
    "lst[:1]"
   ]
  }
 ],
 "metadata": {
  "kernelspec": {
   "display_name": "Python 3",
   "language": "python",
   "name": "python3"
  },
  "language_info": {
   "codemirror_mode": {
    "name": "ipython",
    "version": 3
   },
   "file_extension": ".py",
   "mimetype": "text/x-python",
   "name": "python",
   "nbconvert_exporter": "python",
   "pygments_lexer": "ipython3",
   "version": "3.10.7"
  },
  "orig_nbformat": 4
 },
 "nbformat": 4,
 "nbformat_minor": 2
}
