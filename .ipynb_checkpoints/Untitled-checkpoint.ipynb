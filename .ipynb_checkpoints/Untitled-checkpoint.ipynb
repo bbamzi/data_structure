{
 "cells": [
  {
   "cell_type": "code",
   "execution_count": null,
   "id": "810bad7b",
   "metadata": {},
   "outputs": [],
   "source": [
    "class minStack:\n",
    "    def __init__(self):\n",
    "        self.main_stack = []\n",
    "        self.stored_max = []\n",
    "    \n",
    "    def pop(self):\n",
    "        if self.main\n",
    "        "
   ]
  }
 ],
 "metadata": {
  "kernelspec": {
   "display_name": "Python 3 (ipykernel)",
   "language": "python",
   "name": "python3"
  },
  "language_info": {
   "codemirror_mode": {
    "name": "ipython",
    "version": 3
   },
   "file_extension": ".py",
   "mimetype": "text/x-python",
   "name": "python",
   "nbconvert_exporter": "python",
   "pygments_lexer": "ipython3",
   "version": "3.9.13"
  }
 },
 "nbformat": 4,
 "nbformat_minor": 5
}
