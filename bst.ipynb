{
 "cells": [
  {
   "cell_type": "code",
   "execution_count": 21,
   "metadata": {},
   "outputs": [
    {
     "name": "stdout",
     "output_type": "stream",
     "text": [
      "100\n",
      "140\n",
      "True\n"
     ]
    }
   ],
   "source": [
    "class BsTree:\n",
    "    def __init__(self,data):\n",
    "        self.data = data\n",
    "        self.leftChild = None\n",
    "        self.rightChild = None\n",
    "\n",
    "def insertNode(rootNode, nodeValue):\n",
    "    if rootNode.data == None:\n",
    "        rootNode.data = nodeValue\n",
    "    elif nodeValue <= rootNode.data:\n",
    "        if rootNode.leftChild is None:\n",
    "            rootNode.leftChild = BsTree(nodeValue)\n",
    "        else:\n",
    "            insertNode(rootNode.leftChild, nodeValue)\n",
    "    else:\n",
    "        if rootNode.rightChild is None:\n",
    "            rootNode.rightChild = BsTree(nodeValue)\n",
    "        else:\n",
    "             insertNode(rootNode.rightChild, nodeValue)\n",
    "    return \"inserted node\"\n",
    "\n",
    "\n",
    "\n",
    "\n",
    "rootNode = BsTree(None)\n",
    "newNode = insertNode(rootNode, 100) \n",
    "newNode1 = insertNode(rootNode, 50) \n",
    "newNode2 = insertNode(rootNode,140) \n",
    "newNode2 = insertNode(rootNode,True) \n",
    "print(rootNode.data)       \n",
    "print(rootNode.rightChild.data)       \n",
    "print(rootNode.leftChild.leftChild.data)       "
   ]
  }
 ],
 "metadata": {
  "kernelspec": {
   "display_name": "Python 3",
   "language": "python",
   "name": "python3"
  },
  "language_info": {
   "codemirror_mode": {
    "name": "ipython",
    "version": 3
   },
   "file_extension": ".py",
   "mimetype": "text/x-python",
   "name": "python",
   "nbconvert_exporter": "python",
   "pygments_lexer": "ipython3",
   "version": "3.10.7"
  },
  "orig_nbformat": 4
 },
 "nbformat": 4,
 "nbformat_minor": 2
}
