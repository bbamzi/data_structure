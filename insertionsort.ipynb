{
 "cells": [
  {
   "cell_type": "code",
   "execution_count": 2,
   "metadata": {},
   "outputs": [
    {
     "ename": "IndexError",
     "evalue": "pop index out of range",
     "output_type": "error",
     "traceback": [
      "\u001b[1;31m---------------------------------------------------------------------------\u001b[0m",
      "\u001b[1;31mIndexError\u001b[0m                                Traceback (most recent call last)",
      "Cell \u001b[1;32mIn[2], line 13\u001b[0m\n\u001b[0;32m     10\u001b[0m                 initialArr\u001b[39m.\u001b[39minsert(i\u001b[39m+\u001b[39m\u001b[39m1\u001b[39m, otherArr\u001b[39m.\u001b[39mpop(otherArr[\u001b[39m0\u001b[39m]))\n\u001b[0;32m     11\u001b[0m     \u001b[39mreturn\u001b[39;00m initialArr, otherArr\n\u001b[1;32m---> 13\u001b[0m insertion([\u001b[39m1\u001b[39;49m,\u001b[39m2\u001b[39;49m,\u001b[39m5\u001b[39;49m,\u001b[39m3\u001b[39;49m,\u001b[39m6\u001b[39;49m])\n",
      "Cell \u001b[1;32mIn[2], line 8\u001b[0m, in \u001b[0;36minsertion\u001b[1;34m(arr)\u001b[0m\n\u001b[0;32m      6\u001b[0m \u001b[39mfor\u001b[39;00m i \u001b[39min\u001b[39;00m \u001b[39mrange\u001b[39m(\u001b[39mlen\u001b[39m(initialArr)):\n\u001b[0;32m      7\u001b[0m     \u001b[39mif\u001b[39;00m initialArr[i] \u001b[39m>\u001b[39m otherArr[\u001b[39m0\u001b[39m]:\n\u001b[1;32m----> 8\u001b[0m         initialArr\u001b[39m.\u001b[39minsert(i, otherArr\u001b[39m.\u001b[39;49mpop(otherArr[\u001b[39m0\u001b[39;49m]))\n\u001b[0;32m      9\u001b[0m     \u001b[39melse\u001b[39;00m:\n\u001b[0;32m     10\u001b[0m         initialArr\u001b[39m.\u001b[39minsert(i\u001b[39m+\u001b[39m\u001b[39m1\u001b[39m, otherArr\u001b[39m.\u001b[39mpop(otherArr[\u001b[39m0\u001b[39m]))\n",
      "\u001b[1;31mIndexError\u001b[0m: pop index out of range"
     ]
    }
   ],
   "source": [
    "def insertion(arr):\n",
    "\n",
    "    initialArr  = [arr[0]]\n",
    "    otherArr = arr[1:]\n",
    "    while len(otherArr) != 0:\n",
    "        for i in range(len(initialArr)):\n",
    "            if initialArr[i] > otherArr[0]:\n",
    "                initialArr.insert(i, otherArr.pop(otherArr[0]))\n",
    "            else:\n",
    "                initialArr.insert(i+1, otherArr.pop(otherArr[0]))\n",
    "    return initialArr, otherArr\n",
    "\n",
    "insertion([1,2,5,3,6])"
   ]
  }
 ],
 "metadata": {
  "kernelspec": {
   "display_name": "Python 3",
   "language": "python",
   "name": "python3"
  },
  "language_info": {
   "codemirror_mode": {
    "name": "ipython",
    "version": 3
   },
   "file_extension": ".py",
   "mimetype": "text/x-python",
   "name": "python",
   "nbconvert_exporter": "python",
   "pygments_lexer": "ipython3",
   "version": "3.10.7"
  },
  "orig_nbformat": 4
 },
 "nbformat": 4,
 "nbformat_minor": 2
}
