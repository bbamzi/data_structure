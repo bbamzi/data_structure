{
 "cells": [
  {
   "cell_type": "code",
   "execution_count": 1,
   "metadata": {},
   "outputs": [
    {
     "name": "stdout",
     "output_type": "stream",
     "text": [
      "[3, 5]\n"
     ]
    }
   ],
   "source": [
    "\n",
    "def twoSum( nums, target):\n",
    "    \"\"\"\n",
    "    :type nums: List[int]\n",
    "    :type target: int\n",
    "    :rtype: List[int]\n",
    "    \"\"\"\n",
    "    tst = {}\n",
    "    for i in range(len(nums)):\n",
    "        if nums[i] in tst:\n",
    "            return [tst[nums[i]],i]\n",
    "        else:\n",
    "            tst[target - nums[i]] = i\n",
    "        \n",
    "           \n",
    "        \n",
    "\n",
    "print(twoSum([1,2,3,4,5,6],10))\n",
    "            \n",
    "            "
   ]
  },
  {
   "cell_type": "code",
   "execution_count": 97,
   "metadata": {},
   "outputs": [
    {
     "name": "stdout",
     "output_type": "stream",
     "text": [
      "{'aa': 2, 'aabb': 4, 'aabbcc': 6, 'aabbccaa': 8, 'aabbccaabb': 10, 'aabbccaabbcc': 12, 'aabbccaabbccbb': 14, 'aabbccaabbccbbbb': 16}\n"
     ]
    }
   ],
   "source": [
    "\n",
    "def lengthOfLongestSubstring( s):\n",
    "    \"\"\"\n",
    "    :type s: str\n",
    "    :rtype: int\n",
    "    \"\"\"\n",
    "    sub = {}\n",
    "\n",
    "    \n",
    "    prev_word = ''\n",
    "    highest = 0\n",
    "    for i in range(len(s)):\n",
    "        prev_word+=s[i]\n",
    "        if prev_word in sub:\n",
    "            prev_word+=s[i]\n",
    "        # if len(prev_word) > highest:\n",
    "        #     prev_word+=s[i]\n",
    "        #     sub[prev_word] = len(prev_word)\n",
    "        else:\n",
    "            prev_word+=s[i]\n",
    "            sub[prev_word] = len(prev_word)\n",
    "\n",
    "        \n",
    "\n",
    "    print(sub)\n",
    "        \n",
    "lengthOfLongestSubstring(\"abcabcbb\")"
   ]
  },
  {
   "cell_type": "code",
   "execution_count": 103,
   "metadata": {},
   "outputs": [
    {
     "data": {
      "text/plain": [
       "[5, 5]"
      ]
     },
     "execution_count": 103,
     "metadata": {},
     "output_type": "execute_result"
    }
   ],
   "source": [
    "def twoSum(nums, target):\n",
    "        \"\"\"\n",
    "        :type nums: List[int]\n",
    "        :type target: int\n",
    "        :rtype: List[int]\n",
    "        \"\"\"\n",
    "        for i in range(len(nums)):\n",
    "            for j in range(i,len(nums)):\n",
    "                if nums[i] + nums[j] == target:\n",
    "                     return [i,j]\n",
    "\n",
    "\n",
    "twoSum([1,2,3,4,5,6],8)"
   ]
  },
  {
   "cell_type": "code",
   "execution_count": 108,
   "metadata": {},
   "outputs": [],
   "source": [
    "def twoSum(nums, target):\n",
    "    sums = {}\n",
    "    for i in range(len(nums)):\n",
    "        if nums[i] in sums:\n",
    "            return [sums[nums[i]],i]\n",
    "        else:\n",
    "            sums[target-nums[i]] = i\n",
    "\n",
    "twoSum([1,2,3,4,5,6],54)"
   ]
  },
  {
   "cell_type": "code",
   "execution_count": 25,
   "metadata": {},
   "outputs": [
    {
     "data": {
      "text/plain": [
       "3"
      ]
     },
     "execution_count": 25,
     "metadata": {},
     "output_type": "execute_result"
    }
   ],
   "source": [
    "\n",
    "def longestUniqueSubsttr(s):\n",
    "\n",
    "    longest = \"\"\n",
    "    count = 0\n",
    "    \n",
    "   \n",
    "    for index,a in enumerate(s):\n",
    "        current = \"\".join(a)\n",
    "        if current in longest:\n",
    "            longest = longest[longest.index(a) + 1:]\n",
    "            \n",
    "            \n",
    "        longest += a\n",
    "      \n",
    "        count = max(count, len(longest))\n",
    "    return count\n",
    "\n",
    "longestUniqueSubsttr(\"dvdf\")"
   ]
  },
  {
   "cell_type": "code",
   "execution_count": 13,
   "metadata": {},
   "outputs": [
    {
     "data": {
      "text/plain": [
       "True"
      ]
     },
     "execution_count": 13,
     "metadata": {},
     "output_type": "execute_result"
    }
   ],
   "source": [
    "def isValid( s):\n",
    "        \"\"\"\n",
    "        :type s: str\n",
    "        :rtype: bool\n",
    "        \"\"\"\n",
    "        formatter = {\"(\":\")\",\"{\":\"}\",\"[\":\"]\"}\n",
    "        if len(s) %2 != 0:\n",
    "                return False\n",
    "        \n",
    "        stack= []\n",
    "        for i in s:\n",
    "                if i in formatter.keys():\n",
    "                       stack.append(i)\n",
    "                else:\n",
    "                        if stack == []:\n",
    "                                return False\n",
    "                        opend_brac = stack.pop()\n",
    "                        if i != formatter[opend_brac]:\n",
    "                                return False\n",
    "        return stack == []\n",
    "                        \n",
    "isValid('{}(){}')"
   ]
  },
  {
   "cell_type": "code",
   "execution_count": 5,
   "metadata": {},
   "outputs": [
    {
     "data": {
      "text/plain": [
       "False"
      ]
     },
     "execution_count": 5,
     "metadata": {},
     "output_type": "execute_result"
    }
   ],
   "source": [
    "def containsDuplicate(nums):\n",
    "        \"\"\"\n",
    "        :type nums: List[int]\n",
    "        :rtype: bool\n",
    "        \"\"\"\n",
    "        store = {}\n",
    "        for i in nums:\n",
    "                if i in store:\n",
    "                        return False         \n",
    "                else:\n",
    "                        store[i] = 0\n",
    "        return True\n",
    "containsDuplicate([1,2,3,3,4,5,6,7,8,9])"
   ]
  },
  {
   "cell_type": "code",
   "execution_count": null,
   "metadata": {},
   "outputs": [],
   "source": [
    "def isUnique(lst):\n",
    "\n",
    "    store = {}\n",
    "    for i in lst:\n",
    "            if i in store:\n",
    "                    return False         \n",
    "            else:\n",
    "                        store[i] = 0\n",
    "    return True"
   ]
  },
  {
   "cell_type": "code",
   "execution_count": 1,
   "metadata": {},
   "outputs": [
    {
     "name": "stdout",
     "output_type": "stream",
     "text": [
      "1\n"
     ]
    }
   ],
   "source": [
    "a = {(1,2):1,(2,3):2}\n",
    "print(a[1,2])"
   ]
  },
  {
   "cell_type": "code",
   "execution_count": null,
   "metadata": {},
   "outputs": [],
   "source": [
    "\n",
    "def topKFrequent(self, nums, k):\n",
    "    \"\"\"\n",
    "    :type nums: List[int]\n",
    "    :type k: int\n",
    "    :rtype: List[int]\n",
    "    \"\"\"\n",
    "    highest = []\n",
    "    store = {}\n",
    "    for i in nums:\n",
    "        if i in store:\n",
    "                store[i] = store[i] + 1\n",
    "        else:\n",
    "                store[i] = 1\n",
    "    sorted_store = sorted(store.items(),key = lambda x:x[1])\n",
    "\n",
    "    for i in range(k):\n",
    "            highest.append(sorted_store.pop()[0])\n",
    "    return highest\n",
    "topKFrequent( nums, k)"
   ]
  },
  {
   "cell_type": "code",
   "execution_count": 28,
   "metadata": {},
   "outputs": [
    {
     "data": {
      "text/plain": [
       "5"
      ]
     },
     "execution_count": 28,
     "metadata": {},
     "output_type": "execute_result"
    }
   ],
   "source": [
    "def maxProfit( prices):\n",
    "        \"\"\"\n",
    "        :type prices: List[int]\n",
    "        :rtype: int\n",
    "        \"\"\"\n",
    "        buy = prices[0]\n",
    "        max_profit = 0\n",
    "        for i in range(len(prices)):\n",
    " \n",
    "        # Checking for lower buy value\n",
    "            if (buy > prices[i]):\n",
    "                buy = prices[i]\n",
    " \n",
    "        # Checking for higher profit\n",
    "            elif (prices[i] - buy > max_profit):\n",
    "                max_profit = prices[i] - buy\n",
    "        return max_profit\n",
    "                        \n",
    "                \n",
    "        \n",
    "\n",
    "maxProfit([7,1,5,3,6,4])"
   ]
  },
  {
   "cell_type": "code",
   "execution_count": 66,
   "metadata": {},
   "outputs": [
    {
     "data": {
      "text/plain": [
       "''"
      ]
     },
     "execution_count": 66,
     "metadata": {},
     "output_type": "execute_result"
    }
   ],
   "source": [
    "def longestCommonPrefix(strs):\n",
    "        \"\"\"\n",
    "        :type strs: List[str]\n",
    "        :rtype: str\n",
    "        \"\"\"\n",
    "        strs.sort()\n",
    "        first = strs[0]\n",
    "        last = strs[-1]\n",
    "        longest = \"\"\n",
    "        # return strs\n",
    "        \n",
    "        if len(strs) < 1:\n",
    "                return longest\n",
    "\n",
    "        for i in range(len(last)):\n",
    "                # if len(strs[i]) == 0:\n",
    "                #         return \"\"\n",
    "                try:\n",
    "                    if first[i] != last[i]:\n",
    "                            break\n",
    "                    longest += first[i]\n",
    "                except Exception:\n",
    "                       return longest\n",
    "                \n",
    "        return longest\n",
    "                       \n",
    "                \n",
    "\n",
    "\n",
    "longestCommonPrefix([\"flower\",\"a\",\"flower\",\"flower\"])"
   ]
  },
  {
   "cell_type": "code",
   "execution_count": 81,
   "metadata": {},
   "outputs": [
    {
     "name": "stdout",
     "output_type": "stream",
     "text": [
      "-1\n",
      "0\n",
      "1\n",
      "2\n",
      "3\n",
      "4\n",
      "YES"
     ]
    },
    {
     "data": {
      "text/plain": [
       "True"
      ]
     },
     "execution_count": 81,
     "metadata": {},
     "output_type": "execute_result"
    }
   ],
   "source": [
    "def checkStraightLine( coordinates):\n",
    "        \"\"\"\n",
    "        :type coordinates: List[List[int]]\n",
    "        :rtype: bool\n",
    "        \"\"\"\n",
    "        # x0, y0, x1, y1 = *coordinates[0], *coordinates[1]\n",
    "        x0 = coordinates[0][0]\n",
    "        y0 = coordinates[0][1]\n",
    "    \n",
    "        # Second pair of point (x1, y1)\n",
    "        x1 = coordinates[1][0]\n",
    "        y1 = coordinates[1][1]\n",
    "    \n",
    "        dx = x1 - x0\n",
    "        dy = y1 - y0\n",
    "        for i in range(len(coordinates)):\n",
    "            x = coordinates[i][0]\n",
    "            y = coordinates[i][1]\n",
    "            print((dx * (y - y1)))\n",
    "            \n",
    "            if (dx * (y - y1) != dy * (x - x1)):\n",
    "                print(\"NO\", end = \"\")\n",
    "                return False\n",
    " \n",
    "        print(\"YES\", end = \"\")\n",
    "        return True\n",
    "\n",
    "checkStraightLine([[1,2],[2,3],[3,4],[4,5],[5,6],[6,7]])"
   ]
  }
 ],
 "metadata": {
  "kernelspec": {
   "display_name": "Python 3",
   "language": "python",
   "name": "python3"
  },
  "language_info": {
   "codemirror_mode": {
    "name": "ipython",
    "version": 3
   },
   "file_extension": ".py",
   "mimetype": "text/x-python",
   "name": "python",
   "nbconvert_exporter": "python",
   "pygments_lexer": "ipython3",
   "version": "3.10.7"
  },
  "orig_nbformat": 4
 },
 "nbformat": 4,
 "nbformat_minor": 2
}
