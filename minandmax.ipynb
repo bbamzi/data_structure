{
 "cells": [
  {
   "cell_type": "code",
   "execution_count": 5,
   "id": "e56442d8",
   "metadata": {},
   "outputs": [
    {
     "data": {
      "text/plain": [
       "2"
      ]
     },
     "execution_count": 5,
     "metadata": {},
     "output_type": "execute_result"
    }
   ],
   "source": [
    "class minStack:\n",
    "    def __init__(self):\n",
    "        self.main_stack = []\n",
    "        self.stored_min = []\n",
    "    \n",
    "    def pop(self):\n",
    "        if self.main_stack[-1] == self.stored_min[-1]:\n",
    "            self.main_stack.pop()\n",
    "            self.stored_min.pop()\n",
    "        else:\n",
    "            self.main_stack.pop()     \n",
    "        \n",
    "    def push(self,value):\n",
    "        self.main_stack.append(value)\n",
    "        if self.stored_min:\n",
    "            if self.main_stack[-1] < self.stored_min[-1]:\n",
    "                self.stored_min.append(value)\n",
    "        else:\n",
    "            self.stored_min.append(value)\n",
    "\n",
    "    def getMin(self):\n",
    "        return self.stored_min[-1]\n",
    "\n",
    "minsta = minStack()\n",
    "minsta.push(2)\n",
    "minsta.push(300)\n",
    "minsta.push(6)\n",
    "minsta.push(56)\n",
    "minsta.push(100)\n",
    "\n",
    "minsta.getMin()\n"
   ]
  },
  {
   "cell_type": "code",
   "execution_count": 9,
   "id": "810bad7b",
   "metadata": {},
   "outputs": [
    {
     "data": {
      "text/plain": [
       "[300, 6, 2, 56, 100]"
      ]
     },
     "execution_count": 9,
     "metadata": {},
     "output_type": "execute_result"
    }
   ],
   "source": [
    "# max Stack\n",
    "class maxStack:\n",
    "    def __init__(self):\n",
    "        self.main_stack = []\n",
    "        self.stored_max = []\n",
    "    \n",
    "    def pop(self):\n",
    "        if self.main_stack[-1] == self.stored_max[-1]:\n",
    "            self.main_stack.pop()\n",
    "            self.stored_max.pop()\n",
    "        else:\n",
    "            self.main_stack.pop()     \n",
    "        \n",
    "    def push(self,value):\n",
    "        self.main_stack.append(value)\n",
    "        if self.stored_max:\n",
    "            if self.main_stack[-1] > self.stored_max[-1]:\n",
    "                self.stored_max.append(value)\n",
    "        else:\n",
    "            self.stored_max.append(value)\n",
    "\n",
    "    def getMax(self):\n",
    "        return self.stored_max[-1]\n",
    "\n",
    "max = maxStack()\n",
    "max.push(300)\n",
    "max.push(6)\n",
    "max.push(2)\n",
    "max.push(56)\n",
    "max.push(100)\n",
    "\n",
    "max.main_stack\n",
    "\n",
    "    \n",
    "\n"
   ]
  },
  {
   "cell_type": "code",
   "execution_count": null,
   "id": "9bc2b905",
   "metadata": {},
   "outputs": [],
   "source": [
    "#design a linked list\n",
    "#doubling linked list\n",
    "class LinkedList :\n",
    "\n",
    "    def __init__(self):\n",
    "        "
   ]
  }
 ],
 "metadata": {
  "kernelspec": {
   "display_name": "Python 3 (ipykernel)",
   "language": "python",
   "name": "python3"
  },
  "language_info": {
   "codemirror_mode": {
    "name": "ipython",
    "version": 3
   },
   "file_extension": ".py",
   "mimetype": "text/x-python",
   "name": "python",
   "nbconvert_exporter": "python",
   "pygments_lexer": "ipython3",
   "version": "3.10.7"
  }
 },
 "nbformat": 4,
 "nbformat_minor": 5
}
